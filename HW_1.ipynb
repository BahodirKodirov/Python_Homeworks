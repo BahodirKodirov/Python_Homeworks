{
 "cells": [
  {
   "cell_type": "markdown",
   "metadata": {},
   "source": [
    "1)Given a side of square. Find its perimeter and area."
   ]
  },
  {
   "cell_type": "code",
   "execution_count": 2,
   "metadata": {},
   "outputs": [
    {
     "name": "stdout",
     "output_type": "stream",
     "text": [
      "Perimetri:  20\n",
      "Yuzi teng:  25\n"
     ]
    }
   ],
   "source": [
    "a= int(input(\"side of square is: \"))\n",
    "P=4*a\n",
    "S=pow(a,2)\n",
    "print(\"Perimetri: \", P)\n",
    "print(\"Yuzi teng: \", S)"
   ]
  },
  {
   "cell_type": "markdown",
   "metadata": {},
   "source": [
    "2)Given diameter of circle. Find its length."
   ]
  },
  {
   "cell_type": "code",
   "execution_count": 6,
   "metadata": {},
   "outputs": [
    {
     "name": "stdout",
     "output_type": "stream",
     "text": [
      "Aylananing uzunligi:  18.84\n"
     ]
    }
   ],
   "source": [
    "d=float(input(\"diameter of circle is: \"))\n",
    "r=d/2\n",
    "L=2*3.14*r\n",
    "print(\"Aylananing uzunligi: \", L)"
   ]
  },
  {
   "cell_type": "markdown",
   "metadata": {},
   "source": [
    "3)Given two numbers a and b. Find their mean."
   ]
  },
  {
   "cell_type": "code",
   "execution_count": 7,
   "metadata": {},
   "outputs": [
    {
     "name": "stdout",
     "output_type": "stream",
     "text": [
      "Mean equal:  2.5\n"
     ]
    }
   ],
   "source": [
    "a=float(input(\"First number is: \"))\n",
    "b=float(input(\"Second number is: \"))\n",
    "m=(a+b)/2\n",
    "print(\"Mean equal: \", m)"
   ]
  },
  {
   "cell_type": "markdown",
   "metadata": {},
   "source": [
    "4)Given two numbers a and b. Find their sum, product and square of each number."
   ]
  },
  {
   "cell_type": "code",
   "execution_count": 15,
   "metadata": {},
   "outputs": [
    {
     "name": "stdout",
     "output_type": "stream",
     "text": [
      "Sum of  2.0 and  3.0  is  5.0\n",
      "Product of  2.0 and  3.0  is  6.0\n",
      "Square of  2.0  is:  4.0\n",
      "Square of  3.0  is:  9.0\n"
     ]
    }
   ],
   "source": [
    "a=float(input(\"First number is: \"))\n",
    "b=float(input(\"Second number is: \"))\n",
    "sum=a+b\n",
    "product=a*b\n",
    "S1=pow(a,2)\n",
    "S2=pow(b,2)\n",
    "print(\"Sum of \",a, \"and \", b, \" is \", sum)\n",
    "print(\"Product of \",a, \"and \",b, \" is \", product)\n",
    "print (\"Square of \" , a, \" is: \", S1)\n",
    "print (\"Square of \", b, \" is: \", S2)"
   ]
  }
 ],
 "metadata": {
  "kernelspec": {
   "display_name": "Python 3",
   "language": "python",
   "name": "python3"
  },
  "language_info": {
   "codemirror_mode": {
    "name": "ipython",
    "version": 3
   },
   "file_extension": ".py",
   "mimetype": "text/x-python",
   "name": "python",
   "nbconvert_exporter": "python",
   "pygments_lexer": "ipython3",
   "version": "3.13.1"
  }
 },
 "nbformat": 4,
 "nbformat_minor": 2
}
