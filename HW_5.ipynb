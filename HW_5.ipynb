{
 "cells": [
  {
   "cell_type": "markdown",
   "metadata": {},
   "source": [
    "Homework"
   ]
  },
  {
   "cell_type": "markdown",
   "metadata": {},
   "source": [
    "Write a program that will check evennes of given number \\n\n",
    "From given 3 numbers from input, find the biggest number\n",
    "Write a program that will find if the number is vowel (aeiou) or consonant"
   ]
  },
  {
   "cell_type": "markdown",
   "metadata": {},
   "source": [
    "Write a program that will check evennes of given number \\n"
   ]
  },
  {
   "cell_type": "code",
   "execution_count": 5,
   "metadata": {},
   "outputs": [
    {
     "name": "stdout",
     "output_type": "stream",
     "text": [
      "Entered number is odd\n"
     ]
    }
   ],
   "source": [
    "Numb=int(input('ENter any intiger number'))\n",
    "\n",
    "if Numb%2==0:\n",
    "    print('Entered number is even number')\n",
    "else:\n",
    "    print('Entered number is odd')\n"
   ]
  },
  {
   "cell_type": "markdown",
   "metadata": {},
   "source": [
    "From given 3 numbers from input, find the biggest number"
   ]
  },
  {
   "cell_type": "code",
   "execution_count": 14,
   "metadata": {},
   "outputs": [
    {
     "name": "stdout",
     "output_type": "stream",
     "text": [
      "Max num is 1.0\n"
     ]
    }
   ],
   "source": [
    "a=float(input('Enter first number: '))\n",
    "b=float(input('Enter second number: '))\n",
    "c=float(input('Enter thirth number: '))\n",
    "\n",
    "if a>b and a>c:\n",
    "    print(f\"Max num is {a}\")\n",
    "elif a<b and b>c:\n",
    "    print(f\"max num is {b} \")\n",
    "else:\n",
    "    print(f\"Max num is {c}\")\n"
   ]
  },
  {
   "cell_type": "code",
   "execution_count": 11,
   "metadata": {},
   "outputs": [
    {
     "name": "stdout",
     "output_type": "stream",
     "text": [
      "Max num is:  3.0\n"
     ]
    }
   ],
   "source": [
    "a=float(input('Enter first number: '))\n",
    "b=float(input('Enter second number: '))\n",
    "c=float(input('Enter thirth number: '))\n",
    "largest=max(a,b,c)\n",
    "print(f\"Max num is:  {largest}\")"
   ]
  },
  {
   "cell_type": "markdown",
   "metadata": {},
   "source": [
    "Write a program that will find if the number is vowel (aeiou) or consonant"
   ]
  },
  {
   "cell_type": "code",
   "execution_count": 21,
   "metadata": {},
   "outputs": [
    {
     "name": "stdout",
     "output_type": "stream",
     "text": [
      "your letter 'a' is vowel\n"
     ]
    }
   ],
   "source": [
    "letter=input('Enter any letter: ').lower()\n",
    "\n",
    "if letter in ('aeiou'):\n",
    "    print(f\"your letter '{letter}' is vowel\")\n",
    "else:\n",
    "    print(f\"your letter '{letter}' is constant\")"
   ]
  },
  {
   "cell_type": "code",
   "execution_count": 19,
   "metadata": {},
   "outputs": [
    {
     "name": "stdout",
     "output_type": "stream",
     "text": [
      "your letter 'a' is vowel\n"
     ]
    }
   ],
   "source": [
    "letter=input('Enter any letter: ')\n",
    "if letter.isalpha():\n",
    "    if letter in ('aeiou'):\n",
    "        print(f\"your letter '{letter}' is vowel\")\n",
    "    else:\n",
    "        print(f\"your letter '{letter}' is constant\")\n",
    "\n",
    "else:\n",
    "    raise ValueError(f'{letter} is wrong')"
   ]
  }
 ],
 "metadata": {
  "kernelspec": {
   "display_name": "Python 3",
   "language": "python",
   "name": "python3"
  },
  "language_info": {
   "codemirror_mode": {
    "name": "ipython",
    "version": 3
   },
   "file_extension": ".py",
   "mimetype": "text/x-python",
   "name": "python",
   "nbconvert_exporter": "python",
   "pygments_lexer": "ipython3",
   "version": "3.13.1"
  }
 },
 "nbformat": 4,
 "nbformat_minor": 2
}
