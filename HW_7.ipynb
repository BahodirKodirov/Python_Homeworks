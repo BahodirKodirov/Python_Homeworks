{
 "cells": [
  {
   "cell_type": "markdown",
   "metadata": {},
   "source": [
    "##Homework"
   ]
  },
  {
   "cell_type": "markdown",
   "metadata": {},
   "source": [
    "•\t1. Write a function `greet()` that prints 'Hello, World!' when called."
   ]
  },
  {
   "cell_type": "code",
   "execution_count": 2,
   "metadata": {},
   "outputs": [
    {
     "name": "stdout",
     "output_type": "stream",
     "text": [
      "Hello world\n"
     ]
    }
   ],
   "source": [
    "def greet():\n",
    "    print('Hello world')\n",
    "\n",
    "greet()    "
   ]
  },
  {
   "cell_type": "markdown",
   "metadata": {},
   "source": [
    "•\t2. Create a function `show_date_time()` that prints the current date and time."
   ]
  },
  {
   "cell_type": "code",
   "execution_count": null,
   "metadata": {},
   "outputs": [
    {
     "name": "stdout",
     "output_type": "stream",
     "text": [
      "Current date and time: 2025-02-16 11:26:04.704586\n",
      "2025-02-16 11:26:04.704869\n"
     ]
    }
   ],
   "source": [
    "from datetime import datetime\n",
    "\n",
    "def show_date_time():\n",
    "    current_time = datetime.now() \n",
    "    print(\"Current date and time:\", current_time)\n",
    "\n",
    "\n",
    "show_date_time()\n",
    "\n"
   ]
  },
  {
   "cell_type": "markdown",
   "metadata": {},
   "source": [
    "•\t3. Write a function `display_even_numbers()` that prints even numbers from 1 to 20."
   ]
  },
  {
   "cell_type": "code",
   "execution_count": 17,
   "metadata": {},
   "outputs": [
    {
     "name": "stdout",
     "output_type": "stream",
     "text": [
      "2\n",
      "4\n",
      "6\n",
      "8\n",
      "10\n",
      "12\n",
      "14\n",
      "16\n",
      "18\n",
      "20\n"
     ]
    }
   ],
   "source": [
    "def display_even_numbers():\n",
    "    for number in range(1, 21):  \n",
    "        if number % 2 == 0: \n",
    "            print(number)  \n",
    "\n",
    "\n",
    "display_even_numbers()\n",
    "\n",
    "     "
   ]
  },
  {
   "cell_type": "markdown",
   "metadata": {},
   "source": [
    "•\t4. Write a function `greet_user(name)` that takes a name as a parameter and prints 'Hello, [name]!'"
   ]
  },
  {
   "cell_type": "code",
   "execution_count": 14,
   "metadata": {},
   "outputs": [
    {
     "name": "stdout",
     "output_type": "stream",
     "text": [
      "Hello, Alice!\n",
      "Hello, Bob!\n"
     ]
    }
   ],
   "source": [
    "def greet_user(name):\n",
    "    print(f\"Hello, {name}!\")  \n",
    "\n",
    "\n",
    "greet_user(\"Alice\")\n",
    "greet_user(\"Bob\")\n",
    "\n",
    "\n",
    "   "
   ]
  },
  {
   "cell_type": "markdown",
   "metadata": {},
   "source": [
    "•\t5. Create a function `print_square(n)` that prints the square of a given number."
   ]
  },
  {
   "cell_type": "code",
   "execution_count": 22,
   "metadata": {},
   "outputs": [
    {
     "name": "stdout",
     "output_type": "stream",
     "text": [
      "The square of 4 is 16.\n",
      "The square of 7 is 49.\n"
     ]
    }
   ],
   "source": [
    "def print_square(n):\n",
    "    square = n ** 2  \n",
    "    print(f\"The square of {n} is {square}.\") \n",
    "\n",
    "\n",
    "print_square(4)\n",
    "print_square(7)\n",
    " "
   ]
  },
  {
   "cell_type": "markdown",
   "metadata": {},
   "source": [
    "•\t6. Write a function `multiply_numbers(a, b)` that takes two numbers and prints their product."
   ]
  },
  {
   "cell_type": "code",
   "execution_count": null,
   "metadata": {},
   "outputs": [
    {
     "name": "stdout",
     "output_type": "stream",
     "text": [
      "The product of 5 and 3 is: 15\n",
      "30\n"
     ]
    }
   ],
   "source": [
    "def multiply_numbers(a, b):\n",
    "    product = a * b\n",
    "    print(\"The product of\", a, \"and\", b, \"is:\", product)\n",
    "\n",
    "\n",
    "multiply_numbers(5, 3) \n",
    "    "
   ]
  },
  {
   "cell_type": "markdown",
   "metadata": {},
   "source": [
    "•\t7. Write a function `get_pi()` that returns the value of π (3.14159)."
   ]
  },
  {
   "cell_type": "code",
   "execution_count": 24,
   "metadata": {},
   "outputs": [
    {
     "name": "stdout",
     "output_type": "stream",
     "text": [
      "The value of π is: 3.14159\n"
     ]
    }
   ],
   "source": [
    "def get_pi():\n",
    "    return 3.14159\n",
    "\n",
    "\n",
    "pi_value = get_pi()\n",
    "print(\"The value of π is:\", pi_value)"
   ]
  },
  {
   "cell_type": "markdown",
   "metadata": {},
   "source": [
    "•\t8. Create a function `random_number()` that returns a random number between 1 and 100."
   ]
  },
  {
   "cell_type": "code",
   "execution_count": 29,
   "metadata": {},
   "outputs": [
    {
     "name": "stdout",
     "output_type": "stream",
     "text": [
      "Random number between 1 and 100: 4\n"
     ]
    }
   ],
   "source": [
    "import random\n",
    "\n",
    "def random_number():\n",
    "    return random.randint(1, 100)\n",
    "\n",
    "random_value = random_number()\n",
    "print(\"Random number between 1 and 100:\", random_value)\n"
   ]
  },
  {
   "cell_type": "markdown",
   "metadata": {},
   "source": [
    "•\t9. Write a function `current_year()` that returns the current year."
   ]
  },
  {
   "cell_type": "code",
   "execution_count": 33,
   "metadata": {},
   "outputs": [
    {
     "name": "stdout",
     "output_type": "stream",
     "text": [
      "The current year is: 2025\n"
     ]
    }
   ],
   "source": [
    "import datetime\n",
    "\n",
    "def current_year():\n",
    "    return datetime.datetime.now().year\n",
    "\n",
    "\n",
    "year = current_year()\n",
    "print(\"The current year is:\", year)\n",
    "\n",
    "\n"
   ]
  },
  {
   "cell_type": "markdown",
   "metadata": {},
   "source": [
    "•\t10. Write a function `add_numbers(a, b)` that returns the sum of two numbers."
   ]
  },
  {
   "cell_type": "code",
   "execution_count": 35,
   "metadata": {},
   "outputs": [
    {
     "name": "stdout",
     "output_type": "stream",
     "text": [
      " Matija 1 + 2 = 3 \n"
     ]
    }
   ],
   "source": [
    "def add_numbers(a, b):\n",
    "    result=a+b\n",
    "    print(f\" Matija {a} + {b} = {result} \")\n",
    "\n",
    "add_numbers(1,2)    "
   ]
  },
  {
   "cell_type": "markdown",
   "metadata": {},
   "source": [
    "•\t11. Create a function `is_even(n)` that returns `True` if the number is even and `False` otherwise."
   ]
  },
  {
   "cell_type": "code",
   "execution_count": 39,
   "metadata": {},
   "outputs": [
    {
     "name": "stdout",
     "output_type": "stream",
     "text": [
      "4 is even.\n"
     ]
    }
   ],
   "source": [
    "def is_even(n):\n",
    "    return n % 2 == 0\n",
    "\n",
    "number = 4\n",
    "if is_even(number):\n",
    "    print(f\"{number} is even.\")\n",
    "else:\n",
    "    print(f\"{number} is odd.\")"
   ]
  },
  {
   "cell_type": "markdown",
   "metadata": {},
   "source": [
    "•\t12. Write a function `get_factorial(n)` that returns the factorial of a given number."
   ]
  },
  {
   "cell_type": "code",
   "execution_count": 41,
   "metadata": {},
   "outputs": [
    {
     "name": "stdout",
     "output_type": "stream",
     "text": [
      "The factorial of 2 is: 2\n"
     ]
    }
   ],
   "source": [
    "def get_factorial(n):\n",
    "    if n < 0:\n",
    "        return \"Factorial is not defined for negative numbers.\"\n",
    "    elif n == 0 or n == 1:\n",
    "        return 1\n",
    "    else:\n",
    "        factorial = 1\n",
    "        for i in range(2, n + 1):\n",
    "            factorial *= i\n",
    "        return factorial\n",
    "\n",
    "\n",
    "number = 2\n",
    "\n",
    "result = get_factorial(number)\n",
    "print(f\"The factorial of {number} is: {result}\")"
   ]
  },
  {
   "cell_type": "markdown",
   "metadata": {},
   "source": [
    "•\t13. Write a recursive function `countdown(n)` that prints numbers from `n` to `1`."
   ]
  },
  {
   "cell_type": "code",
   "execution_count": 65,
   "metadata": {},
   "outputs": [
    {
     "name": "stdout",
     "output_type": "stream",
     "text": [
      "5\n",
      "4\n",
      "3\n",
      "2\n",
      "1\n"
     ]
    }
   ],
   "source": [
    "    \n",
    "\n",
    "def countdown(n):\n",
    "    if n <= 0:\n",
    "        return  \n",
    "    print(n) \n",
    "    countdown(n - 1)  \n",
    "\n",
    "\n",
    "countdown(5)"
   ]
  },
  {
   "cell_type": "markdown",
   "metadata": {},
   "source": [
    "•\t14. Create a recursive function `sum_natural(n)` that returns the sum of the first `n` natural numbers."
   ]
  },
  {
   "cell_type": "code",
   "execution_count": 66,
   "metadata": {},
   "outputs": [
    {
     "name": "stdout",
     "output_type": "stream",
     "text": [
      "The sum of the first 5 natural numbers is: 15\n"
     ]
    }
   ],
   "source": [
    "\n",
    "def sum_natural(n):\n",
    "    if n <= 0:\n",
    "        return 0 \n",
    "    else:\n",
    "        return n + sum_natural(n - 1) \n",
    "\n",
    "number = 5\n",
    "result = sum_natural(number)\n",
    "print(f\"The sum of the first {number} natural numbers is: {result}\")"
   ]
  },
  {
   "cell_type": "markdown",
   "metadata": {},
   "source": [
    "•\t15. Write a recursive function `fibonacci(n)` that returns the `n`th Fibonacci number."
   ]
  },
  {
   "cell_type": "code",
   "execution_count": 70,
   "metadata": {},
   "outputs": [
    {
     "name": "stdout",
     "output_type": "stream",
     "text": [
      "The 6th Fibonacci number is: 8\n"
     ]
    }
   ],
   "source": [
    "def fibonacci(n):\n",
    "    if n < 0:\n",
    "        return \"Invalid input\"  \n",
    "    elif n == 0:\n",
    "        return 0  \n",
    "    elif n == 1:\n",
    "        return 1 \n",
    "    else:\n",
    "        return fibonacci(n - 1) + fibonacci(n - 2)  \n",
    "\n",
    "\n",
    "number = 6\n",
    "result = fibonacci(number)\n",
    "print(f\"The {number}th Fibonacci number is: {result}\")"
   ]
  },
  {
   "cell_type": "markdown",
   "metadata": {},
   "source": [
    "•\t16. Write a function `sum_numbers(*args)` that takes multiple numbers and returns their sum."
   ]
  },
  {
   "cell_type": "code",
   "execution_count": 1,
   "metadata": {},
   "outputs": [
    {
     "name": "stdout",
     "output_type": "stream",
     "text": [
      "The sum of the numbers is: 15\n"
     ]
    }
   ],
   "source": [
    "def sum_numbers(*args):\n",
    "    return sum(args) \n",
    "\n",
    "\n",
    "result = sum_numbers(1, 2, 3, 4, 5)\n",
    "print(\"The sum of the numbers is:\", result) "
   ]
  },
  {
   "cell_type": "markdown",
   "metadata": {},
   "source": [
    "•\t17. Create a function `print_info(**kwargs)` that prints key-value pairs passed as arguments."
   ]
  },
  {
   "cell_type": "code",
   "execution_count": 3,
   "metadata": {},
   "outputs": [
    {
     "name": "stdout",
     "output_type": "stream",
     "text": [
      "name: Alice\n",
      "age: 30\n",
      "city: New York\n",
      "country: USA\n"
     ]
    }
   ],
   "source": [
    "def print_info(**kwargs):\n",
    "    for key, value in kwargs.items():\n",
    "        print(f\"{key}: {value}\")\n",
    "\n",
    "\n",
    "print_info(name=\"Alice\", age=30, city=\"New York\", country=\"USA\")"
   ]
  },
  {
   "cell_type": "markdown",
   "metadata": {},
   "source": [
    "•\t18. Write a function `power(base, exponent=2)` that returns `base` raised to the power of `exponent`."
   ]
  },
  {
   "cell_type": "code",
   "execution_count": 4,
   "metadata": {},
   "outputs": [
    {
     "name": "stdout",
     "output_type": "stream",
     "text": [
      "3 raised to the power of 2 is: 9\n",
      "3 raised to the power of 3 is: 27\n"
     ]
    }
   ],
   "source": [
    "def power(base, exponent=2):\n",
    "    return base ** exponent  \n",
    "\n",
    "\n",
    "result1 = power(3) \n",
    "result2 = power(3, 3)  \n",
    "\n",
    "print(\"3 raised to the power of 2 is:\", result1)  \n",
    "print(\"3 raised to the power of 3 is:\", result2)"
   ]
  },
  {
   "cell_type": "markdown",
   "metadata": {},
   "source": [
    "•\t19. Create a function `calculate_area(length: float, width: float) -> float` that returns the area of a rectangle. Add a docstring explaining the function."
   ]
  },
  {
   "cell_type": "code",
   "execution_count": 5,
   "metadata": {},
   "outputs": [
    {
     "name": "stdout",
     "output_type": "stream",
     "text": [
      "The area of the rectangle is: 15.0\n"
     ]
    }
   ],
   "source": [
    "def calculate_area(length: float, width: float) -> float:\n",
    "   \n",
    "    return length * width\n",
    "\n",
    "area = calculate_area(5.0, 3.0)\n",
    "print(\"The area of the rectangle is:\", area)"
   ]
  },
  {
   "cell_type": "markdown",
   "metadata": {},
   "source": [
    "•\t20. Given a list of numbers, use `map()` to square each number and use `filter()` to return only the even squares. Write a function `process_numbers(nums: list) -> list`."
   ]
  },
  {
   "cell_type": "code",
   "execution_count": 6,
   "metadata": {},
   "outputs": [
    {
     "name": "stdout",
     "output_type": "stream",
     "text": [
      "Even squares: [4, 16, 36]\n"
     ]
    }
   ],
   "source": [
    "def process_numbers(nums: list) -> list:\n",
    "\n",
    "    squared_numbers = map(lambda x: x ** 2, nums)\n",
    "    \n",
    "   \n",
    "    even_squares = filter(lambda x: x % 2 == 0, squared_numbers)\n",
    "    \n",
    "  \n",
    "    return list(even_squares)\n",
    "\n",
    "numbers = [1, 2, 3, 4, 5, 6]\n",
    "result = process_numbers(numbers)\n",
    "print(\"Even squares:\", result)"
   ]
  },
  {
   "cell_type": "markdown",
   "metadata": {},
   "source": [
    "•\t21. Write a function `reverse_string(s: str) -> str` that returns the reversed version of a given string."
   ]
  },
  {
   "cell_type": "code",
   "execution_count": 7,
   "metadata": {},
   "outputs": [
    {
     "name": "stdout",
     "output_type": "stream",
     "text": [
      "Reversed string: !dlroW ,olleH\n"
     ]
    }
   ],
   "source": [
    "def reverse_string(s: str) -> str:\n",
    "\n",
    "    return s[::-1]  \n",
    "\n",
    "\n",
    "input_string = \"Hello, World!\"\n",
    "reversed_string = reverse_string(input_string)\n",
    "print(\"Reversed string:\", reversed_string) "
   ]
  },
  {
   "cell_type": "markdown",
   "metadata": {},
   "source": [
    "•\t22. Create a function `count_vowels(s: str) -> int` that returns the number of vowels in a given string."
   ]
  },
  {
   "cell_type": "code",
   "execution_count": 8,
   "metadata": {},
   "outputs": [
    {
     "name": "stdout",
     "output_type": "stream",
     "text": [
      "Number of vowels: 3\n"
     ]
    }
   ],
   "source": [
    "def count_vowels(s: str) -> int:\n",
    " \n",
    "    vowels = \"aeiouAEIOU\"  \n",
    "    count = sum(1 for char in s if char in vowels)  \n",
    "    return count\n",
    "\n",
    "\n",
    "input_string = \"Hello, World!\"\n",
    "vowel_count = count_vowels(input_string)\n",
    "print(\"Number of vowels:\", vowel_count)"
   ]
  },
  {
   "cell_type": "markdown",
   "metadata": {},
   "source": [
    "•\t23. Write a recursive function `gcd(a, b)` to find the greatest common divisor of two numbers."
   ]
  },
  {
   "cell_type": "code",
   "execution_count": 9,
   "metadata": {},
   "outputs": [
    {
     "name": "stdout",
     "output_type": "stream",
     "text": [
      "The GCD of 48 and 18 is: 6\n"
     ]
    }
   ],
   "source": [
    "def gcd(a: int, b: int) -> int:\n",
    "  \n",
    "    if b == 0:\n",
    "        return a \n",
    "    else:\n",
    "        return gcd(b, a % b)  \n",
    "\n",
    "num1 = 48\n",
    "num2 = 18\n",
    "result = gcd(num1, num2)\n",
    "print(f\"The GCD of {num1} and {num2} is: {result}\")"
   ]
  },
  {
   "cell_type": "markdown",
   "metadata": {},
   "source": [
    "•\t24. Implement a function `merge_lists(*lists)` that takes multiple lists as arguments and returns a single merged list."
   ]
  },
  {
   "cell_type": "code",
   "execution_count": 10,
   "metadata": {},
   "outputs": [
    {
     "name": "stdout",
     "output_type": "stream",
     "text": [
      "Merged list: [1, 2, 3, 4, 5, 6, 7, 8, 9]\n"
     ]
    }
   ],
   "source": [
    "def merge_lists(*lists):\n",
    "   \n",
    "    merged_list = []\n",
    "    for lst in lists:\n",
    "        merged_list.extend(lst)  \n",
    "    return merged_list\n",
    "\n",
    "\n",
    "list1 = [1, 2, 3]\n",
    "list2 = [4, 5]\n",
    "list3 = [6, 7, 8, 9]\n",
    "result = merge_lists(list1, list2, list3)\n",
    "print(\"Merged list:\", result)"
   ]
  },
  {
   "cell_type": "markdown",
   "metadata": {},
   "source": [
    "•\t25. Write a function `student_data(name, age=18, **details)` that takes a name and age (default 18) and prints additional details from `**details`."
   ]
  },
  {
   "cell_type": "code",
   "execution_count": 11,
   "metadata": {},
   "outputs": [
    {
     "name": "stdout",
     "output_type": "stream",
     "text": [
      "Name: Alice\n",
      "Age: 20\n",
      "Additional Details:\n",
      "major: Computer Science\n",
      "grade: A\n",
      "hobbies: ['reading', 'coding']\n"
     ]
    }
   ],
   "source": [
    "def student_data(name: str, age: int = 18, **details):\n",
    "  \n",
    "    print(f\"Name: {name}\")\n",
    "    print(f\"Age: {age}\")\n",
    "    \n",
    "    \n",
    "    if details:\n",
    "        print(\"Additional Details:\")\n",
    "        for key, value in details.items():\n",
    "            print(f\"{key}: {value}\")\n",
    "\n",
    "\n",
    "student_data(\"Alice\", 20, major=\"Computer Science\", grade=\"A\", hobbies=[\"reading\", \"coding\"])"
   ]
  },
  {
   "cell_type": "markdown",
   "metadata": {},
   "source": [
    "•\t26. Create a function `calculate_interest(principal: float, rate: float = 5.0, time: int = 1) -> float` that returns the calculated simple interest."
   ]
  },
  {
   "cell_type": "code",
   "execution_count": 12,
   "metadata": {},
   "outputs": [
    {
     "name": "stdout",
     "output_type": "stream",
     "text": [
      "The calculated interest is: 100.0\n"
     ]
    }
   ],
   "source": [
    "def calculate_interest(principal: float, rate: float = 5.0, time: int = 1) -> float:\n",
    "    \"\"\"\n",
    "    Calculate the simple interest.\n",
    "\n",
    "    Parameters:\n",
    "    principal (float): The principal amount.\n",
    "    rate (float): The interest rate (default is 5.0).\n",
    "    time (int): The time period in years (default is 1).\n",
    "\n",
    "    Returns:\n",
    "    float: The calculated simple interest.\n",
    "    \"\"\"\n",
    "    interest = (principal * rate * time) / 100  # Calculate simple interest\n",
    "    return interest\n",
    "\n",
    "# Example usage:\n",
    "principal_amount = 1000.0\n",
    "interest_rate = 5.0\n",
    "time_period = 2\n",
    "interest = calculate_interest(principal_amount, interest_rate, time_period)\n",
    "print(f\"The calculated interest is: {interest}\")"
   ]
  },
  {
   "cell_type": "markdown",
   "metadata": {},
   "source": [
    "•\t27. Use `map()` to convert a list of Fahrenheit temperatures to Celsius."
   ]
  },
  {
   "cell_type": "code",
   "execution_count": 13,
   "metadata": {},
   "outputs": [
    {
     "name": "stdout",
     "output_type": "stream",
     "text": [
      "Fahrenheit temperatures: [32, 68, 100, 212, 50]\n",
      "Celsius temperatures: [0.0, 20.0, 37.77777777777778, 100.0, 10.0]\n"
     ]
    }
   ],
   "source": [
    "def fahrenheit_to_celsius(fahrenheit):\n",
    "    \"\"\"\n",
    "    Convert Fahrenheit to Celsius.\n",
    "\n",
    "    Parameters:\n",
    "    fahrenheit (float): Temperature in Fahrenheit.\n",
    "\n",
    "    Returns:\n",
    "    float: Temperature in Celsius.\n",
    "    \"\"\"\n",
    "    return (fahrenheit - 32) * 5 / 9\n",
    "\n",
    "# List of Fahrenheit temperatures\n",
    "fahrenheit_temps = [32, 68, 100, 212, 50]\n",
    "\n",
    "# Use map to convert the list of Fahrenheit temperatures to Celsius\n",
    "celsius_temps = list(map(fahrenheit_to_celsius, fahrenheit_temps))\n",
    "\n",
    "# Print the results\n",
    "print(\"Fahrenheit temperatures:\", fahrenheit_temps)\n",
    "print(\"Celsius temperatures:\", celsius_temps)"
   ]
  },
  {
   "cell_type": "markdown",
   "metadata": {},
   "source": [
    "•\t28. Use `filter()` to extract all prime numbers from a given list."
   ]
  },
  {
   "cell_type": "code",
   "execution_count": 14,
   "metadata": {},
   "outputs": [
    {
     "name": "stdout",
     "output_type": "stream",
     "text": [
      "Original numbers: [10, 15, 3, 7, 8, 23, 4, 5, 11, 13, 17]\n",
      "Prime numbers: [3, 7, 23, 5, 11, 13, 17]\n"
     ]
    }
   ],
   "source": [
    "def is_prime(n: int) -> bool:\n",
    "    \"\"\"\n",
    "    Check if a number is prime.\n",
    "\n",
    "    Parameters:\n",
    "    n (int): The number to check.\n",
    "\n",
    "    Returns:\n",
    "    bool: True if n is prime, False otherwise.\n",
    "    \"\"\"\n",
    "    if n <= 1:\n",
    "        return False  # 0 and 1 are not prime numbers\n",
    "    for i in range(2, int(n**0.5) + 1):\n",
    "        if n % i == 0:\n",
    "            return False  # n is divisible by i, so it's not prime\n",
    "    return True  # n is prime\n",
    "\n",
    "# Given list of numbers\n",
    "numbers = [10, 15, 3, 7, 8, 23, 4, 5, 11, 13, 17]\n",
    "\n",
    "# Use filter to extract prime numbers from the list\n",
    "prime_numbers = list(filter(is_prime, numbers))\n",
    "\n",
    "# Print the results\n",
    "print(\"Original numbers:\", numbers)\n",
    "print(\"Prime numbers:\", prime_numbers)"
   ]
  },
  {
   "cell_type": "markdown",
   "metadata": {},
   "source": [
    "•\t29. Write a function `calculate_discount(price: float, discount: float = 10.0) -> float` that returns the final price after applying a percentage discount."
   ]
  },
  {
   "cell_type": "code",
   "execution_count": 15,
   "metadata": {},
   "outputs": [
    {
     "name": "stdout",
     "output_type": "stream",
     "text": [
      "The final price after a 15.0% discount is: $85.00\n"
     ]
    }
   ],
   "source": [
    "def calculate_discount(price: float, discount: float = 10.0) -> float:\n",
    "    \"\"\"\n",
    "    Calculate the final price after applying a discount.\n",
    "\n",
    "    Parameters:\n",
    "    price (float): The original price of the item.\n",
    "    discount (float): The discount percentage to apply (default is 10.0).\n",
    "\n",
    "    Returns:\n",
    "    float: The final price after applying the discount.\n",
    "    \"\"\"\n",
    "    discount_amount = (price * discount) / 100  # Calculate the discount amount\n",
    "    final_price = price - discount_amount  # Subtract the discount from the original price\n",
    "    return final_price\n",
    "\n",
    "# Example usage:\n",
    "original_price = 100.0\n",
    "discount_percentage = 15.0\n",
    "final_price = calculate_discount(original_price, discount_percentage)\n",
    "print(f\"The final price after a {discount_percentage}% discount is: ${final_price:.2f}\") "
   ]
  },
  {
   "cell_type": "markdown",
   "metadata": {},
   "source": [
    "•\t30. Write a function `unique_words(sentence: str) -> set` that returns a set of unique words from a given sentence."
   ]
  },
  {
   "cell_type": "code",
   "execution_count": 16,
   "metadata": {},
   "outputs": [
    {
     "name": "stdout",
     "output_type": "stream",
     "text": [
      "Unique words: {'a', 'this', 'test.', 'only', 'sentence', 'test', 'and', 'is'}\n"
     ]
    }
   ],
   "source": [
    "def unique_words(sentence: str) -> set:\n",
    "    \"\"\"\n",
    "    Extract unique words from a given sentence.\n",
    "\n",
    "    Parameters:\n",
    "    sentence (str): The input sentence from which to extract unique words.\n",
    "\n",
    "    Returns:\n",
    "    set: A set of unique words from the input sentence.\n",
    "    \"\"\"\n",
    "    # Split the sentence into words and convert to lowercase for uniformity\n",
    "    words = sentence.lower().split()\n",
    "    \n",
    "    # Use a set to get unique words\n",
    "    unique_word_set = set(words)\n",
    "    \n",
    "    return unique_word_set\n",
    "\n",
    "# Example usage:\n",
    "input_sentence = \"This is a test sentence and this is only a test.\"\n",
    "unique_word_set = unique_words(input_sentence)\n",
    "print(\"Unique words:\", unique_word_set)"
   ]
  }
 ],
 "metadata": {
  "kernelspec": {
   "display_name": "Python 3",
   "language": "python",
   "name": "python3"
  },
  "language_info": {
   "codemirror_mode": {
    "name": "ipython",
    "version": 3
   },
   "file_extension": ".py",
   "mimetype": "text/x-python",
   "name": "python",
   "nbconvert_exporter": "python",
   "pygments_lexer": "ipython3",
   "version": "3.13.1"
  }
 },
 "nbformat": 4,
 "nbformat_minor": 2
}
