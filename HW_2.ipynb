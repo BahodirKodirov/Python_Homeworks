{
 "cells": [
  {
   "cell_type": "markdown",
   "metadata": {},
   "source": [
    "## Homework 1\n",
    "\n",
    "Extract car names from this text.\n",
    "\n",
    "txt = 'MsaatmiazD'"
   ]
  },
  {
   "cell_type": "code",
   "execution_count": 1,
   "metadata": {},
   "outputs": [
    {
     "name": "stdout",
     "output_type": "stream",
     "text": [
      "Name of first car is Matiz \n",
      " second car name is Damas\n"
     ]
    }
   ],
   "source": [
    "txt = 'MsaatmiazD'\n",
    "\n",
    "car1 = txt[::2]\n",
    "# car1\n",
    "\n",
    "car2 = txt[-1::-2]\n",
    "# car2\n",
    "\n",
    "print(f'Name of first car is {car1} \\n second car name is {car2}')\n",
    "\n",
    "\n"
   ]
  },
  {
   "cell_type": "markdown",
   "metadata": {},
   "source": [
    "## Homework 2"
   ]
  },
  {
   "cell_type": "code",
   "execution_count": 2,
   "metadata": {},
   "outputs": [
    {
     "data": {
      "text/plain": [
       "'London.'"
      ]
     },
     "execution_count": 2,
     "metadata": {},
     "output_type": "execute_result"
    }
   ],
   "source": [
    "txt = \"I'm John. I am from London.\"\n",
    "\n",
    "#txt[-7:-1]\n",
    "\n",
    "r = txt.split()[-1]\n",
    "r"
   ]
  }
 ],
 "metadata": {
  "kernelspec": {
   "display_name": "Python 3",
   "language": "python",
   "name": "python3"
  },
  "language_info": {
   "codemirror_mode": {
    "name": "ipython",
    "version": 3
   },
   "file_extension": ".py",
   "mimetype": "text/x-python",
   "name": "python",
   "nbconvert_exporter": "python",
   "pygments_lexer": "ipython3",
   "version": "3.13.1"
  }
 },
 "nbformat": 4,
 "nbformat_minor": 2
}
